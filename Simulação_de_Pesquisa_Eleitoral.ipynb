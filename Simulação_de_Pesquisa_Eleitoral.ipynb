{
  "nbformat": 4,
  "nbformat_minor": 0,
  "metadata": {
    "colab": {
      "provenance": [],
      "toc_visible": true,
      "authorship_tag": "ABX9TyOEvaOufFjYuZu2eeD5HNTf",
      "include_colab_link": true
    },
    "kernelspec": {
      "name": "python3",
      "display_name": "Python 3"
    },
    "language_info": {
      "name": "python"
    }
  },
  "cells": [
    {
      "cell_type": "markdown",
      "metadata": {
        "id": "view-in-github",
        "colab_type": "text"
      },
      "source": [
        "<a href=\"https://colab.research.google.com/github/gabrielmelo5/Portfolio_Machine_Learning/blob/main/Simula%C3%A7%C3%A3o_de_Pesquisa_Eleitoral.ipynb\" target=\"_parent\"><img src=\"https://colab.research.google.com/assets/colab-badge.svg\" alt=\"Open In Colab\"/></a>"
      ]
    },
    {
      "cell_type": "markdown",
      "source": [
        "# Metaverso Eleitoral"
      ],
      "metadata": {
        "id": "zHAAiQzsJLim"
      }
    },
    {
      "cell_type": "code",
      "execution_count": 1,
      "metadata": {
        "id": "vIqkstttIjmI"
      },
      "outputs": [],
      "source": [
        "# Gerar a nossa população\n",
        "# A variável real_proporcao é a intenção de voto de cada candidato\n",
        "\n",
        "n = 150000000\n",
        "\n",
        "candidatos = ['A','B','C','D']\n",
        "\n",
        "real_proporcao = [0.25, 0.20, 0.40, 0.15]\n",
        "\n",
        "na = int(n*real_proporcao[0])\n",
        "nb = int(n*real_proporcao[1])\n",
        "nc = int(n*real_proporcao[2])\n",
        "nd = int(n*real_proporcao[3])\n",
        "\n",
        "populacao = ['A']*na + ['B']*nb + ['C']*nc + ['D']*nd"
      ]
    },
    {
      "cell_type": "markdown",
      "source": [
        "# Simulação da entrevista de intenções de votos"
      ],
      "metadata": {
        "id": "64lNkpDrK3Z2"
      }
    },
    {
      "cell_type": "code",
      "source": [
        "import random\n",
        "\n",
        "tamanho_amostral = 100\n",
        "margem_de_erro = 0.05\n",
        "simulacoes = 500\n",
        "\n",
        "resultados = []\n",
        "for i in range (simulacoes):\n",
        "  pesquisa = random.sample(populacao, k = tamanho_amostral)\n",
        "  # Compilando o resultado da pesquisa\n",
        "  a = pesquisa.count('A')/tamanho_amostral\n",
        "  b = pesquisa.count('B')/tamanho_amostral\n",
        "  c = pesquisa.count('C')/tamanho_amostral\n",
        "  d = pesquisa.count('D')/tamanho_amostral\n",
        "  # Calculando o erro\n",
        "  import numpy as np\n",
        "  erros = np.array([a,b,c,d]) - real_proporcao\n",
        "  todos = np.all(abs(erros) < margem_de_erro)\n",
        "  resultados.append(todos)"
      ],
      "metadata": {
        "id": "IgZaLHp5K6ZW"
      },
      "execution_count": 2,
      "outputs": []
    },
    {
      "cell_type": "code",
      "source": [
        "resultados;"
      ],
      "metadata": {
        "id": "5jN54OXyPZB8"
      },
      "execution_count": 3,
      "outputs": []
    },
    {
      "cell_type": "code",
      "source": [
        "confianca = np.array(resultados).mean()\n",
        "confianca"
      ],
      "metadata": {
        "colab": {
          "base_uri": "https://localhost:8080/"
        },
        "id": "hS38n1fnQkys",
        "outputId": "46c25dc3-0dc7-4b32-c33b-c3846ab5bcfe"
      },
      "execution_count": 4,
      "outputs": [
        {
          "output_type": "execute_result",
          "data": {
            "text/plain": [
              "0.408"
            ]
          },
          "metadata": {},
          "execution_count": 4
        }
      ]
    },
    {
      "cell_type": "markdown",
      "source": [
        "# Código Otimizado"
      ],
      "metadata": {
        "id": "XFGkCSIaRKmX"
      }
    },
    {
      "cell_type": "code",
      "source": [
        "import random\n",
        "import numpy as np\n",
        "\n",
        "# Gerar a nossa população\n",
        "# A variável real_proporcao é a intenção de voto de cada candidato\n",
        "\n",
        "n = 150000000\n",
        "\n",
        "candidatos = ['A', 'B', 'C', 'D']\n",
        "\n",
        "real_proporcao = [0.25, 0.20, 0.40, 0.15]\n",
        "\n",
        "populacao = [candidato for candidato, prop in zip(candidatos, real_proporcao) for _ in range(int(n * prop))]\n",
        "\n",
        "tamanho_amostral = 100\n",
        "margem_de_erro = 0.05\n",
        "simulacoes = 500\n",
        "\n",
        "resultados = []\n",
        "\n",
        "for _ in range(simulacoes):\n",
        "    pesquisa = random.sample(populacao, k=tamanho_amostral)\n",
        "\n",
        "    # Compilando o resultado da pesquisa\n",
        "    contagens = [pesquisa.count(c) / tamanho_amostral for c in candidatos]\n",
        "\n",
        "    # Calculando o erro\n",
        "    erros = np.array(contagens) - real_proporcao\n",
        "    todos = np.all(np.abs(erros) < margem_de_erro)\n",
        "    resultados.append(todos)\n",
        "\n",
        "confianca = np.mean(resultados)\n",
        "print(confianca)\n"
      ],
      "metadata": {
        "colab": {
          "base_uri": "https://localhost:8080/"
        },
        "id": "45-6jP3FRMV4",
        "outputId": "018498da-dd21-4af8-e0f9-bd0ee7da5b9b"
      },
      "execution_count": 7,
      "outputs": [
        {
          "output_type": "stream",
          "name": "stdout",
          "text": [
            "0.446\n"
          ]
        }
      ]
    }
  ]
}